{
  "nbformat": 4,
  "nbformat_minor": 0,
  "metadata": {
    "colab": {
      "provenance": []
    },
    "kernelspec": {
      "name": "python3",
      "display_name": "Python 3"
    },
    "language_info": {
      "name": "python"
    }
  },
  "cells": [
    {
      "cell_type": "markdown",
      "source": [
        "Numpy Part-2"
      ],
      "metadata": {
        "id": "pUwxquO7RTzb"
      }
    },
    {
      "cell_type": "code",
      "execution_count": null,
      "metadata": {
        "id": "4jVUZzY-epQQ"
      },
      "outputs": [],
      "source": [
        "#numpy array manipulation"
      ]
    },
    {
      "cell_type": "code",
      "source": [
        "import numpy as np"
      ],
      "metadata": {
        "id": "vLTYxQcTRfGP"
      },
      "execution_count": null,
      "outputs": []
    },
    {
      "cell_type": "code",
      "source": [
        "a = np.random.randint(1,10,(3,4))"
      ],
      "metadata": {
        "id": "fpqWR4zsRibw"
      },
      "execution_count": null,
      "outputs": []
    },
    {
      "cell_type": "code",
      "source": [
        "a"
      ],
      "metadata": {
        "colab": {
          "base_uri": "https://localhost:8080/"
        },
        "id": "3naXyOlzRnNU",
        "outputId": "9274e25b-4eec-4060-e4d8-1c62432052a8"
      },
      "execution_count": null,
      "outputs": [
        {
          "output_type": "execute_result",
          "data": {
            "text/plain": [
              "array([[2, 9, 5, 2],\n",
              "       [3, 1, 3, 2],\n",
              "       [9, 8, 1, 5]])"
            ]
          },
          "metadata": {},
          "execution_count": 4
        }
      ]
    },
    {
      "cell_type": "code",
      "source": [
        "a.reshape(6,2)"
      ],
      "metadata": {
        "colab": {
          "base_uri": "https://localhost:8080/"
        },
        "id": "xeKGvfnwRn2v",
        "outputId": "8ee53957-cbd8-4803-a47c-c5c60bbef305"
      },
      "execution_count": null,
      "outputs": [
        {
          "output_type": "execute_result",
          "data": {
            "text/plain": [
              "array([[2, 9],\n",
              "       [5, 2],\n",
              "       [3, 1],\n",
              "       [3, 2],\n",
              "       [9, 8],\n",
              "       [1, 5]])"
            ]
          },
          "metadata": {},
          "execution_count": 5
        }
      ]
    },
    {
      "cell_type": "code",
      "source": [
        "a.reshape(2,6)"
      ],
      "metadata": {
        "colab": {
          "base_uri": "https://localhost:8080/"
        },
        "id": "wP4YB12zRsvW",
        "outputId": "35a8bcc2-69d5-46b8-c63f-04bb2680f97c"
      },
      "execution_count": null,
      "outputs": [
        {
          "output_type": "execute_result",
          "data": {
            "text/plain": [
              "array([[2, 9, 5, 2, 3, 1],\n",
              "       [3, 2, 9, 8, 1, 5]])"
            ]
          },
          "metadata": {},
          "execution_count": 6
        }
      ]
    },
    {
      "cell_type": "code",
      "source": [
        "a.T"
      ],
      "metadata": {
        "colab": {
          "base_uri": "https://localhost:8080/"
        },
        "id": "yVAWWgfIR1Rj",
        "outputId": "a40cb11d-5c6b-488c-d72c-6d57d68d32a8"
      },
      "execution_count": null,
      "outputs": [
        {
          "output_type": "execute_result",
          "data": {
            "text/plain": [
              "array([[2, 3, 9],\n",
              "       [9, 1, 8],\n",
              "       [5, 3, 1],\n",
              "       [2, 2, 5]])"
            ]
          },
          "metadata": {},
          "execution_count": 7
        }
      ]
    },
    {
      "cell_type": "code",
      "source": [
        "a.flatten()"
      ],
      "metadata": {
        "colab": {
          "base_uri": "https://localhost:8080/"
        },
        "id": "WiXmXaBrR9QA",
        "outputId": "ed6bbb0f-f331-4f63-d3c5-6c3fddebeb61"
      },
      "execution_count": null,
      "outputs": [
        {
          "output_type": "execute_result",
          "data": {
            "text/plain": [
              "array([2, 9, 5, 2, 3, 1, 3, 2, 9, 8, 1, 5])"
            ]
          },
          "metadata": {},
          "execution_count": 8
        }
      ]
    },
    {
      "cell_type": "code",
      "source": [
        "a1 = np.array([1,2,3,4])"
      ],
      "metadata": {
        "id": "OHh26oMWSDyb"
      },
      "execution_count": null,
      "outputs": []
    },
    {
      "cell_type": "code",
      "source": [
        "a1.ndim"
      ],
      "metadata": {
        "colab": {
          "base_uri": "https://localhost:8080/"
        },
        "id": "Wxk-_kM_ST8_",
        "outputId": "f8a6dbe0-0a5a-432d-a01d-edc612b0206f"
      },
      "execution_count": null,
      "outputs": [
        {
          "output_type": "execute_result",
          "data": {
            "text/plain": [
              "1"
            ]
          },
          "metadata": {},
          "execution_count": 11
        }
      ]
    },
    {
      "cell_type": "code",
      "source": [
        "np.expand_dims(a1,axis=1)"
      ],
      "metadata": {
        "colab": {
          "base_uri": "https://localhost:8080/"
        },
        "id": "CUrN2GLJSV0D",
        "outputId": "f2e1f725-d298-4ea6-fc54-966dbac33ab3"
      },
      "execution_count": null,
      "outputs": [
        {
          "output_type": "execute_result",
          "data": {
            "text/plain": [
              "array([[1],\n",
              "       [2],\n",
              "       [3],\n",
              "       [4]])"
            ]
          },
          "metadata": {},
          "execution_count": 12
        }
      ]
    },
    {
      "cell_type": "code",
      "source": [
        "np.expand_dims(a1,axis=0)"
      ],
      "metadata": {
        "colab": {
          "base_uri": "https://localhost:8080/"
        },
        "id": "ul6npJV0SccJ",
        "outputId": "a2fd57b9-fafe-4965-8e80-613205f70307"
      },
      "execution_count": null,
      "outputs": [
        {
          "output_type": "execute_result",
          "data": {
            "text/plain": [
              "array([[1, 2, 3, 4]])"
            ]
          },
          "metadata": {},
          "execution_count": 14
        }
      ]
    },
    {
      "cell_type": "code",
      "source": [
        "np.squeeze(a)"
      ],
      "metadata": {
        "colab": {
          "base_uri": "https://localhost:8080/"
        },
        "id": "_vGA3XeISkrV",
        "outputId": "c5edb216-69a6-403d-d4e6-c15e2944ceec"
      },
      "execution_count": null,
      "outputs": [
        {
          "output_type": "execute_result",
          "data": {
            "text/plain": [
              "array([[2, 9, 5, 2],\n",
              "       [3, 1, 3, 2],\n",
              "       [9, 8, 1, 5]])"
            ]
          },
          "metadata": {},
          "execution_count": 15
        }
      ]
    },
    {
      "cell_type": "code",
      "source": [
        "data = np.array([[1],[2],[3]])"
      ],
      "metadata": {
        "id": "QJNIWKmyStDo"
      },
      "execution_count": null,
      "outputs": []
    },
    {
      "cell_type": "code",
      "source": [
        "data"
      ],
      "metadata": {
        "colab": {
          "base_uri": "https://localhost:8080/"
        },
        "id": "aWrgrPZ4S8fq",
        "outputId": "853779f6-4afc-418b-f042-70a6f50e763e"
      },
      "execution_count": null,
      "outputs": [
        {
          "output_type": "execute_result",
          "data": {
            "text/plain": [
              "array([[1],\n",
              "       [2],\n",
              "       [3]])"
            ]
          },
          "metadata": {},
          "execution_count": 19
        }
      ]
    },
    {
      "cell_type": "code",
      "source": [
        "np.squeeze(data) #squeeze removes a dimension wof an array whose size is one"
      ],
      "metadata": {
        "colab": {
          "base_uri": "https://localhost:8080/"
        },
        "id": "tS-qM0jTSyLW",
        "outputId": "ca608079-c93e-4cb6-9e65-c8d7de1440d0"
      },
      "execution_count": null,
      "outputs": [
        {
          "output_type": "execute_result",
          "data": {
            "text/plain": [
              "array([1, 2, 3])"
            ]
          },
          "metadata": {},
          "execution_count": 18
        }
      ]
    },
    {
      "cell_type": "code",
      "source": [
        "np.repeat(a,3)"
      ],
      "metadata": {
        "colab": {
          "base_uri": "https://localhost:8080/"
        },
        "id": "TftGYEL3Te-B",
        "outputId": "a84f7793-ab54-4824-882f-f187178b7650"
      },
      "execution_count": null,
      "outputs": [
        {
          "output_type": "execute_result",
          "data": {
            "text/plain": [
              "array([2, 2, 2, 9, 9, 9, 5, 5, 5, 2, 2, 2, 3, 3, 3, 1, 1, 1, 3, 3, 3, 2,\n",
              "       2, 2, 9, 9, 9, 8, 8, 8, 1, 1, 1, 5, 5, 5])"
            ]
          },
          "metadata": {},
          "execution_count": 20
        }
      ]
    },
    {
      "cell_type": "code",
      "source": [
        "np.roll(a1,2) #it shift the data"
      ],
      "metadata": {
        "colab": {
          "base_uri": "https://localhost:8080/"
        },
        "id": "iKg5M6gUTlOX",
        "outputId": "8728251c-f3a0-4015-b4d3-930e0c2a1efc"
      },
      "execution_count": null,
      "outputs": [
        {
          "output_type": "execute_result",
          "data": {
            "text/plain": [
              "array([3, 4, 1, 2])"
            ]
          },
          "metadata": {},
          "execution_count": 21
        }
      ]
    },
    {
      "cell_type": "code",
      "source": [
        "np.roll(a1,3)"
      ],
      "metadata": {
        "colab": {
          "base_uri": "https://localhost:8080/"
        },
        "id": "pTpSdDoGT3Yu",
        "outputId": "6b33a0f0-62b9-4640-902d-c8f8b6af87d5"
      },
      "execution_count": null,
      "outputs": [
        {
          "output_type": "execute_result",
          "data": {
            "text/plain": [
              "array([2, 3, 4, 1])"
            ]
          },
          "metadata": {},
          "execution_count": 22
        }
      ]
    },
    {
      "cell_type": "code",
      "source": [
        "np.diag(a1)"
      ],
      "metadata": {
        "colab": {
          "base_uri": "https://localhost:8080/"
        },
        "id": "GyiBSfyoT60r",
        "outputId": "ab4d48c8-b732-4018-c5c4-a8dab68ef631"
      },
      "execution_count": null,
      "outputs": [
        {
          "output_type": "execute_result",
          "data": {
            "text/plain": [
              "array([[1, 0, 0, 0],\n",
              "       [0, 2, 0, 0],\n",
              "       [0, 0, 3, 0],\n",
              "       [0, 0, 0, 4]])"
            ]
          },
          "metadata": {},
          "execution_count": 23
        }
      ]
    },
    {
      "cell_type": "code",
      "source": [
        "#Numpy Binary Operators"
      ],
      "metadata": {
        "id": "cpqkDtRqT-u_"
      },
      "execution_count": null,
      "outputs": []
    },
    {
      "cell_type": "code",
      "source": [
        "a1 = np.random.randint(1,10,(3,4))"
      ],
      "metadata": {
        "id": "nG3FV1viUDp3"
      },
      "execution_count": null,
      "outputs": []
    },
    {
      "cell_type": "code",
      "source": [
        "a2 = np.random.randint(1,10,(3,4))"
      ],
      "metadata": {
        "id": "E4_VjtN_UIXV"
      },
      "execution_count": null,
      "outputs": []
    },
    {
      "cell_type": "code",
      "source": [
        "a1+a2"
      ],
      "metadata": {
        "colab": {
          "base_uri": "https://localhost:8080/"
        },
        "id": "1bttYSi6UMso",
        "outputId": "e2e73490-be3a-4fc4-8b44-520673e973b4"
      },
      "execution_count": null,
      "outputs": [
        {
          "output_type": "execute_result",
          "data": {
            "text/plain": [
              "array([[13, 17, 18, 12],\n",
              "       [11,  6, 14, 14],\n",
              "       [14,  9,  9, 14]])"
            ]
          },
          "metadata": {},
          "execution_count": 26
        }
      ]
    },
    {
      "cell_type": "code",
      "source": [
        "a1*a2"
      ],
      "metadata": {
        "colab": {
          "base_uri": "https://localhost:8080/"
        },
        "id": "b8l2LUeTUQXB",
        "outputId": "f115fd14-ed4c-4e7e-c6a6-269b203ce605"
      },
      "execution_count": null,
      "outputs": [
        {
          "output_type": "execute_result",
          "data": {
            "text/plain": [
              "array([[36, 72, 81, 35],\n",
              "       [24,  9, 49, 49],\n",
              "       [45, 18, 18, 48]])"
            ]
          },
          "metadata": {},
          "execution_count": 27
        }
      ]
    },
    {
      "cell_type": "code",
      "source": [
        "~a1"
      ],
      "metadata": {
        "colab": {
          "base_uri": "https://localhost:8080/"
        },
        "id": "aPt7sOhIUW45",
        "outputId": "527b272a-e8f7-419c-914a-40dd0c920b8a"
      },
      "execution_count": null,
      "outputs": [
        {
          "output_type": "execute_result",
          "data": {
            "text/plain": [
              "array([[-10, -10, -10,  -8],\n",
              "       [ -9,  -4,  -8,  -8],\n",
              "       [ -6,  -4,  -7,  -7]])"
            ]
          },
          "metadata": {},
          "execution_count": 29
        }
      ]
    },
    {
      "cell_type": "code",
      "source": [
        "a1|a2"
      ],
      "metadata": {
        "colab": {
          "base_uri": "https://localhost:8080/"
        },
        "id": "YKxeE5nXUlit",
        "outputId": "3e243bd3-fe55-40d4-ae6e-6f8559c3b04d"
      },
      "execution_count": null,
      "outputs": [
        {
          "output_type": "execute_result",
          "data": {
            "text/plain": [
              "array([[13,  9,  9,  7],\n",
              "       [11,  3,  7,  7],\n",
              "       [13,  7,  7, 14]])"
            ]
          },
          "metadata": {},
          "execution_count": 30
        }
      ]
    },
    {
      "cell_type": "code",
      "source": [
        "a1&a2"
      ],
      "metadata": {
        "colab": {
          "base_uri": "https://localhost:8080/"
        },
        "id": "EXa5MP1uUoWq",
        "outputId": "b0aeab75-efde-4a60-c8a7-9fec40858f37"
      },
      "execution_count": null,
      "outputs": [
        {
          "output_type": "execute_result",
          "data": {
            "text/plain": [
              "array([[0, 8, 9, 5],\n",
              "       [0, 3, 7, 7],\n",
              "       [1, 2, 2, 0]])"
            ]
          },
          "metadata": {},
          "execution_count": 31
        }
      ]
    },
    {
      "cell_type": "code",
      "source": [
        "#Numpy string functions"
      ],
      "metadata": {
        "id": "2jJY0nn1Uq5N"
      },
      "execution_count": null,
      "outputs": []
    },
    {
      "cell_type": "code",
      "source": [
        "arr = np.array([\"kirti\",\"singh\"])"
      ],
      "metadata": {
        "id": "4WKIKB6RUwo3"
      },
      "execution_count": null,
      "outputs": []
    },
    {
      "cell_type": "code",
      "source": [
        "np.char.upper(arr)"
      ],
      "metadata": {
        "colab": {
          "base_uri": "https://localhost:8080/"
        },
        "id": "QWnhknSZU2Iw",
        "outputId": "465fa609-605c-4d60-aae6-32f07eb82242"
      },
      "execution_count": null,
      "outputs": [
        {
          "output_type": "execute_result",
          "data": {
            "text/plain": [
              "array(['KIRTI', 'SINGH'], dtype='<U5')"
            ]
          },
          "metadata": {},
          "execution_count": 36
        }
      ]
    },
    {
      "cell_type": "code",
      "source": [
        "np.char.title(arr)"
      ],
      "metadata": {
        "colab": {
          "base_uri": "https://localhost:8080/"
        },
        "id": "MgmqkJ4gU_KN",
        "outputId": "e1d0716f-138e-46f5-a7d9-930003a5ff5d"
      },
      "execution_count": null,
      "outputs": [
        {
          "output_type": "execute_result",
          "data": {
            "text/plain": [
              "array(['Kirti', 'Singh'], dtype='<U5')"
            ]
          },
          "metadata": {},
          "execution_count": 37
        }
      ]
    },
    {
      "cell_type": "code",
      "source": [
        "np.char.capitalize(arr)"
      ],
      "metadata": {
        "colab": {
          "base_uri": "https://localhost:8080/"
        },
        "id": "v4ehOtqhVD0N",
        "outputId": "085f2647-0aad-4cbb-eb98-7ea85eb1debb"
      },
      "execution_count": null,
      "outputs": [
        {
          "output_type": "execute_result",
          "data": {
            "text/plain": [
              "array(['Kirti', 'Singh'], dtype='<U5')"
            ]
          },
          "metadata": {},
          "execution_count": 38
        }
      ]
    },
    {
      "cell_type": "code",
      "source": [
        "#numpy mathe,matics functions"
      ],
      "metadata": {
        "id": "pSNEZfG0VJ9X"
      },
      "execution_count": null,
      "outputs": []
    },
    {
      "cell_type": "code",
      "source": [
        "a1"
      ],
      "metadata": {
        "colab": {
          "base_uri": "https://localhost:8080/"
        },
        "id": "fSuCwveUVMqs",
        "outputId": "f3c9a011-e3cc-409b-c213-4e92010b133e"
      },
      "execution_count": null,
      "outputs": [
        {
          "output_type": "execute_result",
          "data": {
            "text/plain": [
              "array([[9, 9, 9, 7],\n",
              "       [8, 3, 7, 7],\n",
              "       [5, 3, 6, 6]])"
            ]
          },
          "metadata": {},
          "execution_count": 40
        }
      ]
    },
    {
      "cell_type": "code",
      "source": [
        "np.sin(a1)"
      ],
      "metadata": {
        "colab": {
          "base_uri": "https://localhost:8080/"
        },
        "id": "eFACBvSPVOTm",
        "outputId": "6895a3a9-0a72-441b-9e8f-fe7763c792ab"
      },
      "execution_count": null,
      "outputs": [
        {
          "output_type": "execute_result",
          "data": {
            "text/plain": [
              "array([[ 0.41211849,  0.41211849,  0.41211849,  0.6569866 ],\n",
              "       [ 0.98935825,  0.14112001,  0.6569866 ,  0.6569866 ],\n",
              "       [-0.95892427,  0.14112001, -0.2794155 , -0.2794155 ]])"
            ]
          },
          "metadata": {},
          "execution_count": 41
        }
      ]
    },
    {
      "cell_type": "code",
      "source": [
        "np.cos(a1)"
      ],
      "metadata": {
        "colab": {
          "base_uri": "https://localhost:8080/"
        },
        "id": "-SXlgwKQVRk5",
        "outputId": "530a38d5-226e-4d8c-fc87-87897580fa26"
      },
      "execution_count": null,
      "outputs": [
        {
          "output_type": "execute_result",
          "data": {
            "text/plain": [
              "array([[-0.91113026, -0.91113026, -0.91113026,  0.75390225],\n",
              "       [-0.14550003, -0.9899925 ,  0.75390225,  0.75390225],\n",
              "       [ 0.28366219, -0.9899925 ,  0.96017029,  0.96017029]])"
            ]
          },
          "metadata": {},
          "execution_count": 42
        }
      ]
    },
    {
      "cell_type": "code",
      "source": [
        "np.tan(a1)"
      ],
      "metadata": {
        "colab": {
          "base_uri": "https://localhost:8080/"
        },
        "id": "fD-b21XvVVaj",
        "outputId": "4c1395e8-0e83-4d3c-f12e-87ee9c953b80"
      },
      "execution_count": null,
      "outputs": [
        {
          "output_type": "execute_result",
          "data": {
            "text/plain": [
              "array([[-0.45231566, -0.45231566, -0.45231566,  0.87144798],\n",
              "       [-6.79971146, -0.14254654,  0.87144798,  0.87144798],\n",
              "       [-3.38051501, -0.14254654, -0.29100619, -0.29100619]])"
            ]
          },
          "metadata": {},
          "execution_count": 43
        }
      ]
    },
    {
      "cell_type": "code",
      "source": [
        "np.tanh(a1)"
      ],
      "metadata": {
        "colab": {
          "base_uri": "https://localhost:8080/"
        },
        "id": "8qmpsk1SVXg9",
        "outputId": "ed9a6558-343a-42da-9595-2ecf6d63c55d"
      },
      "execution_count": null,
      "outputs": [
        {
          "output_type": "execute_result",
          "data": {
            "text/plain": [
              "array([[0.99999997, 0.99999997, 0.99999997, 0.99999834],\n",
              "       [0.99999977, 0.99505475, 0.99999834, 0.99999834],\n",
              "       [0.9999092 , 0.99505475, 0.99998771, 0.99998771]])"
            ]
          },
          "metadata": {},
          "execution_count": 44
        }
      ]
    },
    {
      "cell_type": "code",
      "source": [
        "np.exp(a1)"
      ],
      "metadata": {
        "colab": {
          "base_uri": "https://localhost:8080/"
        },
        "id": "ce6L_hvsViMr",
        "outputId": "6264972d-b1ed-454b-f80f-68619fc2ea13"
      },
      "execution_count": null,
      "outputs": [
        {
          "output_type": "execute_result",
          "data": {
            "text/plain": [
              "array([[8103.08392758, 8103.08392758, 8103.08392758, 1096.63315843],\n",
              "       [2980.95798704,   20.08553692, 1096.63315843, 1096.63315843],\n",
              "       [ 148.4131591 ,   20.08553692,  403.42879349,  403.42879349]])"
            ]
          },
          "metadata": {},
          "execution_count": 45
        }
      ]
    },
    {
      "cell_type": "code",
      "source": [
        "np.sqrt(a1)"
      ],
      "metadata": {
        "colab": {
          "base_uri": "https://localhost:8080/"
        },
        "id": "nstA_UggVks8",
        "outputId": "05c5d633-a2a8-4025-df68-40623a95296d"
      },
      "execution_count": null,
      "outputs": [
        {
          "output_type": "execute_result",
          "data": {
            "text/plain": [
              "array([[3.        , 3.        , 3.        , 2.64575131],\n",
              "       [2.82842712, 1.73205081, 2.64575131, 2.64575131],\n",
              "       [2.23606798, 1.73205081, 2.44948974, 2.44948974]])"
            ]
          },
          "metadata": {},
          "execution_count": 46
        }
      ]
    },
    {
      "cell_type": "code",
      "source": [
        "np.power(a1,2)"
      ],
      "metadata": {
        "colab": {
          "base_uri": "https://localhost:8080/"
        },
        "id": "wJzfLCvDVmrU",
        "outputId": "bf1bd524-2bcd-4f81-a8c6-d673aa010022"
      },
      "execution_count": null,
      "outputs": [
        {
          "output_type": "execute_result",
          "data": {
            "text/plain": [
              "array([[81, 81, 81, 49],\n",
              "       [64,  9, 49, 49],\n",
              "       [25,  9, 36, 36]])"
            ]
          },
          "metadata": {},
          "execution_count": 48
        }
      ]
    },
    {
      "cell_type": "code",
      "source": [
        "np.mean(a1)"
      ],
      "metadata": {
        "colab": {
          "base_uri": "https://localhost:8080/"
        },
        "id": "A_ymZZxFVrck",
        "outputId": "10258ba9-7d11-4236-ee0d-71e21a81cf15"
      },
      "execution_count": null,
      "outputs": [
        {
          "output_type": "execute_result",
          "data": {
            "text/plain": [
              "6.583333333333333"
            ]
          },
          "metadata": {},
          "execution_count": 49
        }
      ]
    },
    {
      "cell_type": "code",
      "source": [
        "np.median(a1)"
      ],
      "metadata": {
        "colab": {
          "base_uri": "https://localhost:8080/"
        },
        "id": "gpkyyIVSVvTR",
        "outputId": "578e3703-7b67-4e7e-a844-6de117c27865"
      },
      "execution_count": null,
      "outputs": [
        {
          "output_type": "execute_result",
          "data": {
            "text/plain": [
              "7.0"
            ]
          },
          "metadata": {},
          "execution_count": 50
        }
      ]
    },
    {
      "cell_type": "code",
      "source": [
        "np.std(a1)"
      ],
      "metadata": {
        "colab": {
          "base_uri": "https://localhost:8080/"
        },
        "id": "UytEws-7VzRQ",
        "outputId": "1945d846-d163-4367-a6ef-7dca54034179"
      },
      "execution_count": null,
      "outputs": [
        {
          "output_type": "execute_result",
          "data": {
            "text/plain": [
              "2.0190069065976197"
            ]
          },
          "metadata": {},
          "execution_count": 52
        }
      ]
    },
    {
      "cell_type": "code",
      "source": [
        "np.min(a1)"
      ],
      "metadata": {
        "colab": {
          "base_uri": "https://localhost:8080/"
        },
        "id": "s8yGDUneV1EL",
        "outputId": "245890c7-232d-4bea-f884-4f72ee3480e5"
      },
      "execution_count": null,
      "outputs": [
        {
          "output_type": "execute_result",
          "data": {
            "text/plain": [
              "3"
            ]
          },
          "metadata": {},
          "execution_count": 53
        }
      ]
    },
    {
      "cell_type": "code",
      "source": [
        "np.max(a1)"
      ],
      "metadata": {
        "colab": {
          "base_uri": "https://localhost:8080/"
        },
        "id": "YY2P8tIsV8Y4",
        "outputId": "3acc8977-e23c-483b-f435-e888c9f629d4"
      },
      "execution_count": null,
      "outputs": [
        {
          "output_type": "execute_result",
          "data": {
            "text/plain": [
              "9"
            ]
          },
          "metadata": {},
          "execution_count": 54
        }
      ]
    }
  ]
}